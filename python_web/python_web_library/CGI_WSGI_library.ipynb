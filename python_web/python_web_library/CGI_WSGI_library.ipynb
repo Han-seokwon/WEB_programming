{
 "cells": [
  {
   "cell_type": "markdown",
   "metadata": {},
   "source": [
    "# CGI/WSGI 라이브러리"
   ]
  },
  {
   "cell_type": "markdown",
   "metadata": {},
   "source": [
    "## CGI\n",
    "- 웹 서버와 애플리케이션 간에 데이터를 주고받기 위한 방법\n",
    "- 파이썬에는 cgi, cgitb 모듈이 있음\n",
    "- WSGI가 CGI 기능을 포함하기 떄문에 cgi 모듈을 잘 사용하지 않음"
   ]
  },
  {
   "cell_type": "markdown",
   "metadata": {},
   "source": [
    "## WSGI\n",
    "- 파이썬 웹 애플리케이션이 웹 서버와 통신하기 위한 파이썬 프레임 워크\n",
    "- 각 요청에 대해 독립적인 프로세스를 생성하여 단기간에 많은 요청을 받으면 서버에 부하가 걸리는 CGI의 단점을 해결함\n",
    "- WSGI 규격을 맞추면 어떤 웹 서버에서도 파이썬 애플리케이션 실행 가능함\n"
   ]
  },
  {
   "cell_type": "markdown",
   "metadata": {},
   "source": [
    "### wsgiref.simple_server 모듈\n",
    "- WSGI 서버예제(참조: https://docs.python.org/ko/3.7/library/wsgiref.html)"
   ]
  },
  {
   "cell_type": "code",
   "execution_count": null,
   "metadata": {},
   "outputs": [],
   "source": [
    "\n",
    "from wsgiref.simple_server import make_server\n",
    "\n",
    "def app1(environ, start_response): # 애플리케이션 함수\n",
    "    \n",
    "    status = '200 OK' # 응답 코드 \n",
    "    headers = [('Content-Type', 'text/plain')] # 응답 헤더\n",
    "    start_response(status, headers)\n",
    "    \n",
    "    response =['Hello WSGI'.encode('utf-8')] # 응답 바디 iterable하게\n",
    "\n",
    "    return response\n",
    "\n",
    "print(\"Serving HTTP on port 8000...\")\n",
    "# 애플리케이션 함수를 make_server의 인자로 함으로써 WSGI 웹 서버 완성\n",
    "server = make_server('', 8000, app1) \n",
    "server.serve_forever()\n"
   ]
  },
  {
   "cell_type": "markdown",
   "metadata": {},
   "source": [
    "위 서버를 실행시키고 http://IP주소:8888 로 들어가면 응답결과를 확인할 수 있음"
   ]
  }
 ],
 "metadata": {
  "kernelspec": {
   "display_name": "python_web_venv",
   "language": "python",
   "name": "python_venv"
  },
  "language_info": {
   "codemirror_mode": {
    "name": "ipython",
    "version": 3
   },
   "file_extension": ".py",
   "mimetype": "text/x-python",
   "name": "python",
   "nbconvert_exporter": "python",
   "pygments_lexer": "ipython3",
   "version": "3.8.3"
  }
 },
 "nbformat": 4,
 "nbformat_minor": 4
}
