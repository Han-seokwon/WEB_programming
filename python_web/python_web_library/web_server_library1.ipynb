{
 "cells": [
  {
   "cell_type": "markdown",
   "metadata": {},
   "source": [
    "# 2. 웹 서버 라이브러리\n",
    "- 웹서버 개발은 파이썬 라이브러리를 사용하기보다는 웹 프레임워크를 사용하는 경우가 대부분임\n",
    "- 하지만 서버 라이브러리를 공부하여 웹 프레임워크의 동작 원리를 파악하는 것은 중요함"
   ]
  },
  {
   "cell_type": "markdown",
   "metadata": {},
   "source": [
    "## 웹서버용 라이브러리 주요 클래스\n",
    "### - HTTPServer\n",
    "    - 웹서버를 만들기 위한 클래스\n",
    "    - 서버 IP와 PORT를 바인딩\n",
    "    - 객체 생성을 위해 핸들러 클래스가 필요함\n",
    " \n",
    "### - BaseHTTPRequestHandler\n",
    "    - 핸들러를 만들기 위한 클래스\n",
    "    - http 프로토콜 처리 로직을 가지고 있음\n",
    "    - 이 클래스를 상속받을 클래스를 만들어 핸들러 클래스를 정의\n",
    "### - SimpleHTTPRequestHandler\n",
    "    - GET과 HEAD 메소드 처리가 가능함 \n",
    "    - BaseHTTPRequestHandler를 상속받은 핸들러 클래스\n",
    "### - CGIHTTPRequestHandler\n",
    "    - SimpleHTTPRequestHandler를 상속받은 핸들러 클래스\n",
    "    - POST 메소드와 CGI 처리가 가능함"
   ]
  },
  {
   "cell_type": "markdown",
   "metadata": {},
   "source": [
    "## 1. BaseHTTPRequestHandle\n"
   ]
  },
  {
   "cell_type": "markdown",
   "metadata": {},
   "source": [
    "### 기초 웹서버\n",
    "- http 통신에서 클라이언트의 요청을 받고 \"This is Web server\"라는 문장을 반환하는 웹서버\n",
    "#### ***웹서버를 만드는 기본 RULE***\n",
    "    - 1. http.server 모듈 import\n",
    "    - 2. BaseHTTPRequestHandler를 상속받을 클래스를 만들어 원하는 방법으로 핸들러 클래스를 정의\n",
    "    - 3. 서버의 IP, PORT 및 핸들러 클래스를 인자로 해 HTTPServer 객체를 생성\n",
    "    - 4. HTTPServer 객체의 serve_forever() 메소드를 호출"
   ]
  },
  {
   "cell_type": "code",
   "execution_count": null,
   "metadata": {},
   "outputs": [],
   "source": [
    "from http.server import HTTPServer, BaseHTTPRequestHandler\n",
    "\n",
    "class handler(BaseHTTPRequestHandler):\n",
    "    def do_GET(self):\n",
    "        self.send_response_only(200, 'OK')\n",
    "        self.send_header('Content-Type','text/plain')\n",
    "        self.end_headers()\n",
    "        self.wfile.write(\"This is Web server\".encode('utf-8'))\n",
    "        \n",
    "\n",
    "server =HTTPServer(('', 8888), handler)\n",
    "print(\"Webserver running on port 8888\")\n",
    "server.serve_forever()\n"
   ]
  },
  {
   "cell_type": "markdown",
   "metadata": {},
   "source": [
    "- 위의 코드를 실행시키고 자신의 IP 주소를 주소창에 입력하면 \"This is Web server\" 문장이 뜸\n",
    "- http://IP주소:8888"
   ]
  },
  {
   "cell_type": "markdown",
   "metadata": {},
   "source": [
    "## 2. SimpleHTTPRequestHandle\n"
   ]
  },
  {
   "cell_type": "markdown",
   "metadata": {},
   "source": [
    "- 코드를 작성하지 않고 즉시 웹 서버를 실행할 수 있도록 한 클래스\n",
    "- GET, HEAD 방식 처리 가능\n",
    "#### - **실행시킬 파일 위치에서  python -m http.server 포트번호를 치면 서버가 실행됨**\n",
    "- **예: python -m http.server 9999 -> http://IP주소:9999** \n",
    "- 서버를 실행하고 자신의 IP 주소를 검색창에 치면 해당 디렉토리 리스트가 보임"
   ]
  },
  {
   "cell_type": "markdown",
   "metadata": {},
   "source": [
    "## 3. CGIHTTPRequestHandle"
   ]
  },
  {
   "cell_type": "markdown",
   "metadata": {},
   "source": [
    "- SimpleHTTPRequestHandler과 마찬가지로 CGIHTTPRequestHandle도 클래스가 미리 구현되어 있어 즉시 웹 서버 실행 가능\n",
    "### - python -m http.server 포트번호 --cgi 를 치면 서버가 실행됨\n",
    "- SimpleHTTPRequestHandler를 상속받아 GET, HEAD 방식을 처리할 수 있고 POST 방식까지 처리할 수 있음\n",
    "- 모든 POST 방식을 처리하지는 못함"
   ]
  },
  {
   "cell_type": "markdown",
   "metadata": {},
   "source": [
    "#### - 서버를 실행시킨 상황에서 아래의 clinet 프로그램을 실행시키면 웹서버로 POST 방식으로 요청을 보내고 CGI script 파일이 처리됨"
   ]
  },
  {
   "cell_type": "code",
   "execution_count": null,
   "metadata": {},
   "outputs": [],
   "source": [
    "# cgi-bin/script.py\n",
    "# 이 스크립트 파일은 반드시 cgi-bin 의 하위에 위치해야함!\n",
    "import cgi\n",
    "\n",
    "print(\"Content-type: text/plain\\n\")\n",
    "form = cgi.FieldStorage()\n",
    "name = form['name'].value\n",
    "em = form['email'].value\n",
    "\n",
    "print('name: ', name)\n",
    "print('email: ', em)"
   ]
  },
  {
   "cell_type": "code",
   "execution_count": null,
   "metadata": {},
   "outputs": [],
   "source": [
    "# client 파일\n",
    "from urllib.request import urlopen\n",
    "from urllib.parse import urlencode\n",
    "\n",
    "url ='http://192.168.0.10:9999/cgi-bin/script.py'\n",
    "\n",
    "data = {\n",
    "    'name' : 'Han seokwon',\n",
    "    'email' : 'hanseokwon@han.com'\n",
    "}\n",
    "\n",
    "Enc_data = urlencode(data)\n",
    "\n",
    "#POST 요청\n",
    "a = urlopen(url, Enc_data.encode('ascii'))\n",
    "print(a.read().decode('cp949'))"
   ]
  }
 ],
 "metadata": {
  "kernelspec": {
   "display_name": "python_web_venv",
   "language": "python",
   "name": "python_venv"
  },
  "language_info": {
   "codemirror_mode": {
    "name": "ipython",
    "version": 3
   },
   "file_extension": ".py",
   "mimetype": "text/x-python",
   "name": "python",
   "nbconvert_exporter": "python",
   "pygments_lexer": "ipython3",
   "version": "3.8.3"
  }
 },
 "nbformat": 4,
 "nbformat_minor": 4
}
